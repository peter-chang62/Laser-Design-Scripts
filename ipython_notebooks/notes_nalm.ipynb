{
 "cells": [
  {
   "cell_type": "markdown",
   "id": "d9bfcdbd-90af-40f8-b835-c2f2b8a7cef9",
   "metadata": {},
   "source": [
    "# Jones Matrices"
   ]
  },
  {
   "cell_type": "markdown",
   "id": "d333b94e-ca7b-4497-9041-21d598764990",
   "metadata": {},
   "source": [
    "The electric field is a two component vector: \n",
    "\n",
    "\\begin{equation}\n",
    "\\vec{E} = \\begin{pmatrix}\n",
    "    E_x \\\\\n",
    "    E_y\n",
    "\\end{pmatrix}\n",
    "\\end{equation}\n",
    "\n",
    "upon which operations are made using Jones matrices. Jones matrices for waveplates can be derived generally from the Jones matrix of a phase retarder:\n",
    "\n",
    "\\begin{equation}\n",
    "J_R(\\phi) = \\begin{pmatrix}\n",
    "    e^{i\\phi/2} & 0 \\\\\n",
    "    0 & e^{-i\\phi/2}\n",
    "\\end{pmatrix}\n",
    "\\end{equation}\n",
    "\n",
    "A few well known Jones matrices are those for a quarter wave plate where $\\phi = \\pi / 2$ and a half wave plate where $\\phi=\\pi$:\n",
    "\n",
    "\\begin{equation}\n",
    "J_R(\\pi/2) = \\begin{pmatrix}\n",
    "    e^{i\\pi/4} & 0 \\\\\n",
    "    0 & e^{-i\\pi/4}\n",
    "\\end{pmatrix}\n",
    "\\end{equation}\n",
    "\n",
    "\\begin{equation}\n",
    "J_R(\\pi) = \\begin{pmatrix}\n",
    "    e^{i\\pi/2} & 0 \\\\\n",
    "    0 & e^{-i\\pi/2}\n",
    "\\end{pmatrix}\n",
    "\\end{equation}\n",
    "\n",
    "The last element that is needed is how to write down the Jones matrix for a rotated wave plate. This can be derived from linear algebra for a rotated operator: \n",
    "\n",
    "\\begin{equation}\n",
    "J_R(\\phi,\\theta)=R(-\\theta)J_R(\\phi)R(\\theta)\n",
    "\\end{equation}\n",
    "\n",
    "Where $R(\\theta)$ is the rotation operator:\n",
    "\n",
    "\\begin{equation}\n",
    "R(\\theta)=\\begin{pmatrix}\n",
    "    \\cos(\\theta) & \\sin(\\theta) \\\\\n",
    "    -\\sin(\\theta) & \\cos(\\theta)\n",
    "\\end{pmatrix}\n",
    "\\end{equation}"
   ]
  },
  {
   "cell_type": "markdown",
   "id": "3a031ad4-57e6-4867-b1b2-d6edec809817",
   "metadata": {},
   "source": [
    "# Cavity transmission"
   ]
  },
  {
   "attachments": {
    "b1691966-14d6-48bb-9a37-9fa4802fd0d7.png": {
     "image/png": "[encoded data removed]"
    }
   },
   "cell_type": "markdown",
   "id": "4ff9293f-748d-41a4-9066-10227115d402",
   "metadata": {},
   "source": [
    "Here we aim to calculate the transmission function for the following cavity:\n",
    "\n",
    "![image.png](attachment:b1691966-14d6-48bb-9a37-9fa4802fd0d7.png)"
   ]
  },
  {
   "cell_type": "markdown",
   "id": "d23f5445-2654-45e9-b597-feb268644cd3",
   "metadata": {},
   "source": [
    "In particular, the laser is composed of:\n",
    "\n",
    "1. A nonlinear fiber loop cross-spliced to a polarization beam combiner\n",
    "2. A free space package containing a quarter and a half wave plate, a polarizing beam splitter and a mirror\n",
    "\n",
    "The point here is that the cavity transmission will depend on the orientation of the wave plates. The goal is to make it unfavorable for CW where the nonlinear phase shift $\\phi_{nl}=0$, and favorable for mode-locked operation where $\\phi_{nl}>0$"
   ]
  },
  {
   "cell_type": "markdown",
   "id": "6ed92b55-79d7-4a67-96f4-806458f95d34",
   "metadata": {},
   "source": [
    "# Python"
   ]
  },
  {
   "cell_type": "markdown",
   "id": "c9cee6a1-59f7-45f4-914b-38b84721aeb6",
   "metadata": {},
   "source": [
    "We will generate an interactive plot using the ipywidgets package. To do this, we need the plots to be free-standing. So, to start we will switch the matplotlib backend from inline to qt5."
   ]
  },
  {
   "cell_type": "markdown",
   "id": "9743b700-62fb-4df5-87b0-65d09490dccb",
   "metadata": {},
   "source": [
    "The package requirements to run this script are:\n",
    "\n",
    "1. numpy\n",
    "2. matplotlib\n",
    "3. ipywidgets\n",
    "4. notebook (for jupyter notebook)"
   ]
  },
  {
   "cell_type": "code",
   "execution_count": 1,
   "id": "a3ab4cb3-582a-4ded-ae62-0b7a5036d558",
   "metadata": {},
   "outputs": [],
   "source": [
    "%matplotlib qt5"
   ]
  },
  {
   "cell_type": "code",
   "execution_count": 2,
   "id": "23432b9a-cdf7-4524-9010-8c652070c555",
   "metadata": {},
   "outputs": [],
   "source": [
    "# %% ----- imports\n",
    "import numpy as np\n",
    "import matplotlib.pyplot as plt\n",
    "from numpy.linalg import inv\n",
    "from ipywidgets import interact, widgets, fixed"
   ]
  },
  {
   "cell_type": "markdown",
   "id": "202a013f-106f-4eca-a9bf-feb4d1bd56d3",
   "metadata": {},
   "source": [
    "We will define the rotation matrix, and the phase retarder Jones matrix:"
   ]
  },
  {
   "cell_type": "code",
   "execution_count": 3,
   "id": "f6d4190e-4cf3-4076-8a17-97dddbeca170",
   "metadata": {},
   "outputs": [],
   "source": [
    "# rotation matrix\n",
    "rot = lambda theta: np.array(\n",
    "    [\n",
    "        [np.cos(theta), np.sin(theta)],\n",
    "        [- np.sin(theta), np.cos(theta)],\n",
    "    ]\n",
    ")\n",
    "\n",
    "# phase retarder\n",
    "ret = lambda phi: np.array(\n",
    "    [\n",
    "        [np.exp(1j * phi / 2), 0],\n",
    "        [0, np.exp(- 1j * phi / 2)],\n",
    "    ]\n",
    ")"
   ]
  },
  {
   "cell_type": "markdown",
   "id": "af055e1c-26bf-46a3-aca0-7498d4607d45",
   "metadata": {},
   "source": [
    "We can also initialize the quarter and half wave plates in the free space package, along with the $90^\\circ$ polarization rotation from the cross-splice at the polarization beam combiner."
   ]
  },
  {
   "cell_type": "code",
   "execution_count": 4,
   "id": "ae1cb7ed-48db-4719-9029-0e4f42adbe9b",
   "metadata": {},
   "outputs": [],
   "source": [
    "M_qwp = ret(np.pi / 4)\n",
    "M_hwp = ret(np.pi)\n",
    "\n",
    "cross = rot(- np.pi / 2 / 2) @ M_hwp @ rot(np.pi / 2 / 2)\n",
    "far = rot(- np.pi / 4 / 2) @ M_hwp @ rot(np.pi / 4 / 2)"
   ]
  },
  {
   "cell_type": "markdown",
   "id": "3034d6b8-11b0-467c-957a-0771f7751f83",
   "metadata": {},
   "source": [
    "Traversal of the free-space package starts and ends at the fiber collimator. With this in mind, we can define a \"freespace\" function that takes an input polariztion and returns the output polarization state of the free-space package. \n",
    "\n",
    "The function will take as inputs the angles of the quarter and half wave plates. \n",
    "\n",
    "Without loss of generality, we can say the PBS passes either $E_x$ or $E_y$."
   ]
  },
  {
   "cell_type": "code",
   "execution_count": 5,
   "id": "cfc1e36c-2e55-43cf-9865-5fef1817cf99",
   "metadata": {},
   "outputs": [],
   "source": [
    "comp = 0  # passes Ex, rejects Ey\n",
    "\n",
    "def freespace(x, theta_qwp, theta_hwp):\n",
    "    qwp = rot(- theta_qwp) @ M_qwp @ rot(theta_qwp)\n",
    "    hwp = rot(- theta_hwp) @ M_hwp @ rot(theta_hwp)\n",
    "\n",
    "    x = cross @ x  # cross splice\n",
    "    x = far @ x\n",
    "    x = qwp @ x  # through the quarter wave plate\n",
    "    x = hwp @ x  # through the half wave plate\n",
    "\n",
    "    x[comp] = 0  # PBS\n",
    "    x = -x  # mirror\n",
    "\n",
    "    x = inv(hwp) @ x  # back through half wave plate\n",
    "    x = inv(qwp) @ x  # back through quarter wave plate\n",
    "    x = far @ x\n",
    "    return x\n"
   ]
  },
  {
   "cell_type": "markdown",
   "id": "0c9a2edc-5215-4fe7-8a40-893fb3d8445b",
   "metadata": {},
   "source": [
    "From here, we are ready to calculate the transmission function of the cavity 👍"
   ]
  },
  {
   "cell_type": "code",
   "execution_count": 6,
   "id": "a7697343-6eb7-450b-910f-ee24f0a34b1e",
   "metadata": {},
   "outputs": [
    {
     "data": {
      "application/vnd.jupyter.widget-view+json": {
       "model_id": "d04581c0ab2a48b081657357cbadc974",
       "version_major": 2,
       "version_minor": 0
      },
      "text/plain": [
       "interactive(children=(FloatSlider(value=0.0, description='theta_qwp', max=180.0, step=0.001), FloatSlider(valu…"
      ]
     },
     "metadata": {},
     "output_type": "display_data"
    }
   ],
   "source": [
    "# nonlinear phase shift\n",
    "phi_nl = np.linspace(-.5 * np.pi, 2 * np.pi, 100)\n",
    "\n",
    "initialized = False\n",
    "\n",
    "@interact(theta_qwp = widgets.FloatSlider(min=0, max=180, step=1e-3, value=0),\n",
    "          theta_hwp = widgets.FloatSlider(min=0, max=90, step=1e-3, value=0))\n",
    "def update(theta_qwp, theta_hwp):\n",
    "    # variables are passed in degrees\n",
    "    theta_qwp *= np.pi / 180\n",
    "    theta_hwp *= np.pi / 180\n",
    "    qwp = rot(-theta_qwp) @ M_qwp @ rot(theta_qwp)\n",
    "    hwp = rot(-theta_hwp) @ M_hwp @ rot(theta_hwp)\n",
    "\n",
    "    # input polarization state to the NALM\n",
    "    x = far @ inv(qwp) @ inv(hwp) @ np.array([1, 0])\n",
    "\n",
    "    # calculate transmission\n",
    "    out = np.zeros((phi_nl.size, 2), dtype=complex)\n",
    "    for n in range(phi_nl.size):\n",
    "        x_nl = ret(phi_nl[n]) @ x\n",
    "        out[n] = freespace(x_nl, theta_qwp, theta_hwp)\n",
    "    t = np.sum(abs(out) ** 2, axis=1)\n",
    "\n",
    "    # power splitting ratio\n",
    "    slow = abs(out[:, 0]) ** 2\n",
    "    fast = abs(out[:, 1]) ** 2\n",
    "\n",
    "    # initialize / update interactive plots\n",
    "    global initialized\n",
    "    global l_1\n",
    "    global l_2\n",
    "    global l_3\n",
    "    if not initialized:\n",
    "        fig, ax = plt.subplots(1, 1)\n",
    "        l_1, = ax.plot(phi_nl * 180 / np.pi, t, linewidth=2, label=\"transmission\")\n",
    "        l_2, = ax.plot(phi_nl * 180 / np.pi, slow, linestyle=\"--\", label=\"slow\")\n",
    "        l_3, = ax.plot(phi_nl * 180 / np.pi, fast, linestyle=\"--\", label=\"fast\")\n",
    "        ax.set_xlabel(\"$\\\\mathrm{\\\\phi_{nl}}$\")\n",
    "        ax.set_ylim(-.05, 1.05)\n",
    "        ax.legend(loc=\"best\")\n",
    "        ax.grid()\n",
    "        fig.tight_layout()\n",
    "        initialized = True\n",
    "    else:\n",
    "        l_1.set_ydata(t)\n",
    "        l_2.set_ydata(slow)\n",
    "        l_3.set_ydata(fast)\n"
   ]
  },
  {
   "cell_type": "code",
   "execution_count": null,
   "id": "eaf64f88-9c89-49ee-a490-4d32e9663bdf",
   "metadata": {},
   "outputs": [],
   "source": []
  }
 ],
 "metadata": {
  "kernelspec": {
   "display_name": "Python 3 (ipykernel)",
   "language": "python",
   "name": "python3"
  },
  "language_info": {
   "codemirror_mode": {
    "name": "ipython",
    "version": 3
   },
   "file_extension": ".py",
   "mimetype": "text/x-python",
   "name": "python",
   "nbconvert_exporter": "python",
   "pygments_lexer": "ipython3",
   "version": "3.8.16"
  }
 },
 "nbformat": 4,
 "nbformat_minor": 5
}
