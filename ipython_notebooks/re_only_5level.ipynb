{
 "cells": [
  {
   "cell_type": "code",
   "execution_count": 1,
   "id": "12b8306e",
   "metadata": {},
   "outputs": [],
   "source": [
    "import sys\n",
    "sys.path.append(\"../\")"
   ]
  },
  {
   "cell_type": "code",
   "execution_count": 2,
   "id": "56b68ceb",
   "metadata": {},
   "outputs": [
    {
     "name": "stdout",
     "output_type": "stream",
     "text": [
      "NOT USING MKL FOR FFT'S IN PYNLO\n"
     ]
    }
   ],
   "source": [
    "import numpy as np\n",
    "from ipywidgets import interact, widgets, fixed\n",
    "import matplotlib.pyplot as plt\n",
    "from scipy.interpolate import InterpolatedUnivariateSpline\n",
    "import pynlo\n",
    "import clipboard\n",
    "import pandas as pd\n",
    "from scipy.constants import c\n",
    "from scipy.integrate import odeint\n",
    "from five_level_ss_eqns import (\n",
    "    dPp_dz,\n",
    "    dPs_dz,\n",
    "    n1_func,\n",
    "    n2_func,\n",
    "    n3_func,\n",
    "    n4_func,\n",
    "    n5_func,\n",
    ")"
   ]
  },
  {
   "cell_type": "code",
   "execution_count": 3,
   "id": "5132d17f",
   "metadata": {},
   "outputs": [],
   "source": [
    "ns = 1e-9\n",
    "ps = 1e-12\n",
    "us = 1e-6\n",
    "ms = 1e-3\n",
    "\n",
    "nm = 1e-9\n",
    "um = 1e-6\n",
    "km = 1e3\n",
    "W = 1.0"
   ]
  },
  {
   "cell_type": "code",
   "execution_count": 4,
   "id": "2f125493",
   "metadata": {},
   "outputs": [],
   "source": [
    "sigma = pd.read_excel(\"../NLight_provided/Erbium Cross Section - nlight_pump+signal.xlsx\")\n",
    "sigma = sigma.to_numpy()[1:].astype(float)[:, [0, 2, 3]]\n",
    "a = sigma[:, :2]\n",
    "e = sigma[:, [0, 2]]\n",
    "\n",
    "spl_sigma_a = InterpolatedUnivariateSpline(\n",
    "    c / a[:, 0][::-1], a[:, 1][::-1], ext=\"zeros\"\n",
    ")\n",
    "\n",
    "spl_sigma_e = InterpolatedUnivariateSpline(\n",
    "    c / e[:, 0][::-1], e[:, 1][::-1], ext=\"zeros\"\n",
    ")\n"
   ]
  },
  {
   "cell_type": "code",
   "execution_count": 5,
   "id": "ce83b69e",
   "metadata": {},
   "outputs": [
    {
     "name": "stdout",
     "output_type": "stream",
     "text": [
      "changing n from 256 to 384 to support both time and frequency bandwidths\n"
     ]
    }
   ],
   "source": [
    "f_r = 1e9\n",
    "n = 256\n",
    "v_min = c / 1700e-9\n",
    "v_max = c / 1400e-9\n",
    "v0 = c / 1550e-9\n",
    "e_p = 25e-3 / f_r\n",
    "t_fwhm = 250e-15\n",
    "min_time_window = 10e-12\n",
    "pulse = pynlo.light.Pulse.Sech(\n",
    "    n,\n",
    "    v_min,\n",
    "    v_max,\n",
    "    v0,\n",
    "    e_p,\n",
    "    t_fwhm,\n",
    "    min_time_window,\n",
    "    alias=2,\n",
    ")\n"
   ]
  },
  {
   "cell_type": "code",
   "execution_count": 6,
   "id": "b7227603",
   "metadata": {},
   "outputs": [],
   "source": [
    "sigma_p = spl_sigma_a(c / 980e-9)\n",
    "sigma_a = spl_sigma_a(pulse.v_grid)\n",
    "sigma_e = spl_sigma_e(pulse.v_grid)\n",
    "\n",
    "n_ion = 80 / 10 * np.log(10) / spl_sigma_a(c / 1530e-9)  # dB/m absorption at 1530 nm\n",
    "r_eff = 3.06 * um / 2\n",
    "a_eff = np.pi * r_eff**2\n",
    "nu_p = c / 980e-9\n",
    "\n",
    "\n",
    "def func(\n",
    "    X,\n",
    "    z,\n",
    "    eps_p,\n",
    "    xi_p,\n",
    "    eps_s,\n",
    "    tau_21,\n",
    "    tau_32,\n",
    "    tau_43,\n",
    "    tau_54,\n",
    "    output=\"deriv\",\n",
    "):\n",
    "    P_p = X[0]\n",
    "    P_s = X[1:]\n",
    "    args = [\n",
    "        n_ion,\n",
    "        a_eff,\n",
    "        1,\n",
    "        1,\n",
    "        nu_p,\n",
    "        P_p,\n",
    "        pulse.v_grid,\n",
    "        P_s,\n",
    "        sigma_p,\n",
    "        sigma_a,\n",
    "        sigma_e,\n",
    "        eps_p,\n",
    "        xi_p,\n",
    "        eps_s,\n",
    "        tau_21,\n",
    "        tau_32,\n",
    "        tau_43,\n",
    "        tau_54,\n",
    "    ]\n",
    "\n",
    "    dPpdz = dPp_dz(*args)\n",
    "\n",
    "    dPsdz = dPs_dz(*args)\n",
    "\n",
    "    if output == \"deriv\":\n",
    "        return np.hstack((dPpdz, dPsdz))\n",
    "    elif output == \"n\":\n",
    "        return (\n",
    "            n1_func(*args),\n",
    "            n2_func(*args),\n",
    "            n3_func(*args),\n",
    "            n4_func(*args),\n",
    "            n5_func(*args),\n",
    "        )\n",
    "\n"
   ]
  },
  {
   "cell_type": "code",
   "execution_count": 7,
   "id": "b5892b20",
   "metadata": {},
   "outputs": [],
   "source": [
    "fig = plt.figure(num=\"5-level rate equation for 250 fs pulse\", figsize=np.array([11.16, 5.21]))\n",
    "ax1 = fig.add_subplot(1, 2, 1)\n",
    "ax2 = fig.add_subplot(1, 2, 2)\n",
    "initialized = False"
   ]
  },
  {
   "cell_type": "code",
   "execution_count": 13,
   "id": "83ba8a8d",
   "metadata": {
    "scrolled": true
   },
   "outputs": [
    {
     "data": {
      "application/vnd.jupyter.widget-view+json": {
       "model_id": "55c7bc64a1214bebbe587384efd19d5f",
       "version_major": 2,
       "version_minor": 0
      },
      "text/plain": [
       "interactive(children=(FloatSlider(value=2.0, description='Pp_0', max=4.0, step=0.001), FloatSlider(value=0.95,…"
      ]
     },
     "metadata": {},
     "output_type": "display_data"
    }
   ],
   "source": [
    "from five_level_ss_eqns import (\n",
    "    eps_p,\n",
    "    xi_p,\n",
    "    eps_s,\n",
    "    tau_21,\n",
    "    tau_32,\n",
    "    tau_43,\n",
    "    tau_54,\n",
    ")\n",
    "\n",
    "Pv_0 = pulse.p_v.copy() * pulse.dv * f_r\n",
    "length = 4\n",
    "\n",
    "# change default parameters\n",
    "# tau_54 = 21.29 * us\n",
    "\n",
    "factor = 5\n",
    "step = lambda x, y: (y - x) / 1000\n",
    "z = np.linspace(0, length, 100)\n",
    "@interact(\n",
    "    Pp_0=widgets.FloatSlider(\n",
    "    min=0,\n",
    "    max=4,\n",
    "    step=1e-3,\n",
    "    value=2,\n",
    "    ),\n",
    "    eps_p=widgets.FloatSlider(\n",
    "        min=0, \n",
    "        max=eps_p*5, \n",
    "        step=eps_p*5/1000, \n",
    "        value=eps_p,\n",
    "    ),\n",
    "    xi_p=widgets.FloatSlider(\n",
    "        min=0, \n",
    "        max=xi_p*5, \n",
    "        step=xi_p*5/1000, \n",
    "        value=xi_p,\n",
    "    ), \n",
    "    eps_s=widgets.FloatSlider(\n",
    "        min=0, \n",
    "        max=eps_s*5, \n",
    "        step=eps_s*5/1000,\n",
    "        value=eps_s,\n",
    "    ),\n",
    "    tau_21=fixed(tau_21/ms),\n",
    "    tau_32=widgets.FloatSlider(\n",
    "        min=tau_32/us/factor, \n",
    "        max=tau_32/us*factor, \n",
    "        step=step(tau_32/us/factor, tau_32/us*factor),\n",
    "        value=tau_32/us,\n",
    "    ),\n",
    "    tau_43=fixed(tau_43/ns),\n",
    "    tau_54=widgets.FloatSlider(\n",
    "        min=tau_54/us/factor, \n",
    "        max=tau_54/us*40, \n",
    "        step=step(tau_54/us/factor, tau_54/us*40),\n",
    "        value=tau_54/us,\n",
    "    ),\n",
    ")\n",
    "def update(\n",
    "    Pp_0,\n",
    "    eps_p,\n",
    "    xi_p,\n",
    "    eps_s,\n",
    "    tau_21,\n",
    "    tau_32,\n",
    "    tau_43,\n",
    "    tau_54,\n",
    "):\n",
    "    args = (\n",
    "    eps_p,\n",
    "    xi_p,\n",
    "    eps_s,\n",
    "    tau_21 * ms,\n",
    "    tau_32 * us,\n",
    "    tau_43 * ns,\n",
    "    tau_54 * us,\n",
    "    )\n",
    "    X_0 = np.hstack([Pp_0, Pv_0])\n",
    "    global sol\n",
    "    global sol_Pp\n",
    "    global sol_Pv\n",
    "    global sol_Ps\n",
    "    sol = odeint(func, X_0, z, args=args)\n",
    "    sol_Pp = sol[:, 0]\n",
    "    sol_Pv = sol[:, 1:]\n",
    "    sol_Ps = np.sum(sol_Pv, axis=1)\n",
    "\n",
    "    n1 = np.zeros(z.size)\n",
    "    n2 = np.zeros(z.size)\n",
    "    n3 = np.zeros(z.size)\n",
    "    n4 = np.zeros(z.size)\n",
    "    n5 = np.zeros(z.size)\n",
    "    for n, (pp, pv) in enumerate(zip(sol_Pp, sol_Pv)):\n",
    "        inversion = func(np.hstack((pp, pv)), None, *args, output=\"n\")\n",
    "        n1[n] = inversion[0]\n",
    "        n2[n] = inversion[1]\n",
    "        n3[n] = inversion[2]\n",
    "        n4[n] = inversion[3]\n",
    "        n5[n] = inversion[4]\n",
    "    \n",
    "    global initialized\n",
    "    global line_11\n",
    "    global line_12\n",
    "    global line_21\n",
    "    global line_22\n",
    "    global line_23\n",
    "    global line_24\n",
    "    global line_25\n",
    "    \n",
    "    if not initialized:\n",
    "        line_11, = ax1.plot(z, sol_Pp, label=\"pump\")\n",
    "        line_12, = ax1.plot(z, sol_Ps, label=\"signal\")\n",
    "        ax1.grid()\n",
    "        ax1.legend(loc=\"best\")\n",
    "        ax1.set_xlabel(\"position (m)\")\n",
    "        ax1.set_ylabel(\"power (W)\")\n",
    "        \n",
    "        line_21, = ax2.plot(z, n1 / n_ion, label=\"n1\")\n",
    "        line_22, = ax2.plot(z, n2 / n_ion, label=\"n2\")\n",
    "        line_23, = ax2.plot(z, n3 / n_ion, label=\"n3\")\n",
    "        line_24, = ax2.plot(z, n4 / n_ion, label=\"n4\")\n",
    "        line_25, = ax2.plot(z, n5 / n_ion, label=\"n5\")\n",
    "        ax2.grid()\n",
    "        ax2.legend(loc=\"best\")\n",
    "        ax2.set_xlabel(\"position (m)\")\n",
    "        ax2.set_ylabel(\"population inversion\")\n",
    "        \n",
    "        fig.tight_layout()\n",
    "        \n",
    "        initialized = True\n",
    "    else:\n",
    "        line_11.set_ydata(sol_Pp)\n",
    "        line_12.set_ydata(sol_Ps)\n",
    "        \n",
    "        line_21.set_ydata(n1 / n_ion)\n",
    "        line_22.set_ydata(n2 / n_ion)\n",
    "        line_23.set_ydata(n3 / n_ion)\n",
    "        line_24.set_ydata(n4 / n_ion)\n",
    "        line_25.set_ydata(n5 / n_ion)\n",
    "#         ax1.set_ylim(ymax=Pp_0)\n"
   ]
  },
  {
   "cell_type": "markdown",
   "id": "9b6d9e6f",
   "metadata": {},
   "source": [
    "I coupled 5 -> 1 with a 1 ms lifetime. This lifetime is given by:\n",
    "\n",
    "[1] P. A. Krug, M. G. Sceats, G. R. Atkins, S. C. Guy, and S. B. Poole, Intermediate Excited-State Absorption in Erbium-Doped Fiber Strongly Pumped at 980 Nm, Opt. Lett. 16, 1976 (1991).\n",
    "\n",
    "The other lifetimes in that paper are actually quite close to Barmenkov's, except with the addition of 5 -> 1. Adding that the model hardly changes, so I'm just going to run without it. That should have been expected because the 5->4 lifetime is on the order of a microsecond, whereas the fluorescence lifetime is on the order of a ms. So, UCE is severely outcompeted."
   ]
  },
  {
   "cell_type": "markdown",
   "id": "4d8064c3",
   "metadata": {},
   "source": [
    "**----------------------------------------------------**"
   ]
  },
  {
   "cell_type": "code",
   "execution_count": 9,
   "id": "a03c2281",
   "metadata": {},
   "outputs": [
    {
     "name": "stdout",
     "output_type": "stream",
     "text": [
      "1.2525252525252526 0.4248258796497627\n"
     ]
    }
   ],
   "source": [
    "print(z[sol_Ps.argmax()], sol_Ps.max())"
   ]
  }
 ],
 "metadata": {
  "kernelspec": {
   "display_name": "Python 3 (ipykernel)",
   "language": "python",
   "name": "python3"
  },
  "language_info": {
   "codemirror_mode": {
    "name": "ipython",
    "version": 3
   },
   "file_extension": ".py",
   "mimetype": "text/x-python",
   "name": "python",
   "nbconvert_exporter": "python",
   "pygments_lexer": "ipython3",
   "version": "3.8.17"
  },
  "toc-showmarkdowntxt": true,
  "toc-showtags": true
 },
 "nbformat": 4,
 "nbformat_minor": 5
}
