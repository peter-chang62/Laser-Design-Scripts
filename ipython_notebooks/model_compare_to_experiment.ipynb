{
 "cells": [
  {
   "cell_type": "code",
   "execution_count": 1,
   "id": "2a7535fd-89fd-4dfd-96dd-c1921e76bffa",
   "metadata": {
    "tags": []
   },
   "outputs": [
    {
     "name": "stdout",
     "output_type": "stream",
     "text": [
      "NOT USING MKL FOR FFT'S IN PYNLO\n"
     ]
    }
   ],
   "source": [
    "# ----- imports\n",
    "import numpy as np\n",
    "import matplotlib.pyplot as plt\n",
    "import clipboard\n",
    "from scipy.constants import c\n",
    "import pynlo\n",
    "from ipywidgets import interact, widgets, fixed\n",
    "from tqdm import tqdm\n",
    "from numpy.fft import fftshift, ifftshift\n"
   ]
  },
  {
   "cell_type": "code",
   "execution_count": 2,
   "id": "5a5b1699-fcbe-4079-a4e9-dce79c684ae0",
   "metadata": {
    "tags": []
   },
   "outputs": [],
   "source": [
    "fft = lambda x, axis=-1, fsc=1.0: fftshift(np.fft.fft(ifftshift(x, axes=axis), axis=axis), axes=axis) * fsc\n",
    "ifft = lambda x, axis=-1, fsc=1.0: fftshift(np.fft.ifft(ifftshift(x, axes=axis), axis=axis), axes=axis) / fsc\n",
    "rfft = lambda x, axis=-1, fsc=1.0: np.fft.rfft(ifftshift(x, axes=axis), axis=axis) * fsc\n",
    "irfft = lambda x, axis=-1, fsc=1.0: fftshift(np.fft.irfft(x, axis=axis), axes=axis) / fsc"
   ]
  },
  {
   "cell_type": "code",
   "execution_count": 3,
   "id": "94e0e175-9cbf-4d12-bb40-cdc615b3a222",
   "metadata": {
    "tags": []
   },
   "outputs": [
    {
     "name": "stdout",
     "output_type": "stream",
     "text": [
      "changing n from 256 to 864 to support both time and frequency bandwidths\n"
     ]
    }
   ],
   "source": [
    "loss_ins = 10 ** (-0.7 / 10)\n",
    "loss_spl = 10 ** (-0.7 / 10)\n",
    "loss_mat = 10 ** (-1 / 10)\n",
    "\n",
    "f_r = 200e6\n",
    "n = 256\n",
    "v_min = c / 1750e-9\n",
    "v_max = c / 1400e-9\n",
    "v0 = c / 1560e-9\n",
    "e_p = 1e-9  # doesn't matter, will do a direct replacement of a_t later\n",
    "\n",
    "t_fwhm = 2e-12\n",
    "min_time_window = 20e-12\n",
    "pulse = pynlo.light.Pulse.Sech(\n",
    "    n,\n",
    "    v_min,\n",
    "    v_max,\n",
    "    v0,\n",
    "    e_p,\n",
    "    t_fwhm,\n",
    "    min_time_window,\n",
    "    alias=2,\n",
    ")\n",
    "dv_dl = pulse.v_grid**2 / c  # J / Hz -> J / m"
   ]
  },
  {
   "cell_type": "code",
   "execution_count": 4,
   "id": "50193ca2-0fd3-4fa5-80d6-75286a5f268a",
   "metadata": {
    "tags": []
   },
   "outputs": [],
   "source": [
    "path = r\"../sim_output/200MHz_osc_v2/post_chirp_sweep/\"\n",
    "\n",
    "P_V = np.load(path + \"P_V.npy\", mmap_mode=\"r\")\n",
    "P_WL = P_V * dv_dl\n",
    "P_T = np.load(path + \"P_T.npy\", mmap_mode=\"r\")\n",
    "V_W = np.load(path + \"V_W.npy\", mmap_mode=\"r\")\n",
    "T_W = np.load(path + \"T_W.npy\", mmap_mode=\"r\")\n",
    "E_P = np.sum(P_V * pulse.dv, axis=-1)\n"
   ]
  },
  {
   "cell_type": "code",
   "execution_count": 5,
   "id": "74ee5540-7286-4408-93c4-cd4ad2839dc4",
   "metadata": {},
   "outputs": [],
   "source": [
    "A_V = np.load(path + \"A_V.npy\", mmap_mode=\"r\")"
   ]
  },
  {
   "cell_type": "code",
   "execution_count": 6,
   "id": "e787ffe5-1dfb-47af-8d11-268557feacc9",
   "metadata": {
    "tags": []
   },
   "outputs": [],
   "source": [
    "spec = np.genfromtxt(\"../Sichong/osc_build_v2/edfa_fb.CSV\", skip_header=44, delimiter=\",\")\n",
    "spec[:, 1] = 10 ** (spec[:, 1] / 10)  # dB -> linear\n",
    "spec[:, 0] = c / (spec[:, 0] * 1e-9)  # wavelength -> frequency\n",
    "spec[:, 1] *= c / spec[:, 0] ** 2  # J / m -> J / Hz\n",
    "spec[:, 1] /= spec[:, 1].max()  # normalize\n",
    "p_data = pulse.copy()\n",
    "p_data.import_p_v(spec[:, 0], spec[:, 1], phi_v=np.zeros(spec[:, 1].size))"
   ]
  },
  {
   "cell_type": "code",
   "execution_count": 7,
   "id": "f4464274-1aec-4864-960c-95a87d36ec97",
   "metadata": {
    "tags": []
   },
   "outputs": [],
   "source": [
    "corr = np.genfromtxt(\"../Sichong/02-07-2024_FROG/edfa_fb_pump.txt\")\n",
    "t = corr[:, 0][1:] * 1e-15\n",
    "nu = c / (corr[0][1:] * 1e-9)\n",
    "frog = corr[:, 1:][1:]\n",
    "frog *= c / nu ** 2\n",
    "frog /= frog.max()\n",
    "\n",
    "# fig, ax = plt.subplots(1, 1)\n",
    "# ax.pcolormesh(t*1e15, nu*1e-12 / 2, frog.T)"
   ]
  },
  {
   "cell_type": "code",
   "execution_count": 8,
   "id": "32376f00-cb74-48da-b08c-b999b9e0d7a4",
   "metadata": {
    "tags": []
   },
   "outputs": [],
   "source": [
    "from scipy.integrate import simpson\n",
    "from scipy.interpolate import InterpolatedUnivariateSpline\n",
    "frog -= frog[0]\n",
    "corr = simpson(frog[:, ::-1], axis=1, x=nu[::-1])\n",
    "corr /= corr.max()\n",
    "\n",
    "corr = InterpolatedUnivariateSpline(t, corr, ext=1)(pulse.t_grid)"
   ]
  },
  {
   "cell_type": "code",
   "execution_count": 21,
   "id": "632ff762-e735-4950-b8ab-5a036f7cf8fe",
   "metadata": {
    "tags": []
   },
   "outputs": [],
   "source": [
    "fig, axs = plt.subplots(2, 3, figsize=np.array([9.76, 6.39]))\n",
    "ax1, ax2, ax3, ax4 = axs[:, :-1].flatten()\n",
    "# ax1_ = ax1.twinx()\n",
    "# ax1_.set_ylabel(\"instantaneous time (fs)\")\n",
    "ax5, ax6 = axs[:, -1].flatten()\n",
    "ax5_ = ax5.twinx()\n",
    "ax5_.set_ylabel(\"instantaneous frequency (THz)\")\n",
    "ax1.semilogy(p_data.wl_grid * 1e9, p_data.p_v * dv_dl, \"k--\", linewidth=2)\n",
    "# ax1.set_ylim(-P_WL.max() * .01, P_WL.max() * 1.01)\n",
    "ax1.set_ylim(1e-5, P_WL.max())\n",
    "ax2.plot(pulse.t_grid * 1e15, corr, \"k--\", linewidth=2)\n",
    "ax2.set_ylim(-.05, 1.05)\n",
    "ax5.set_ylim(-.05, 1.05)\n",
    "img_v_w = ax3.pcolormesh(V_W * 1e-12)\n",
    "img_t_w = ax4.pcolormesh(T_W * 1e15)\n",
    "v_grid = pulse.v_grid * 1e-12\n",
    "wl_grid = pulse.wl_grid\n",
    "img = ax6.pcolorfast(pulse.t_grid * 1e15, v_grid, np.ones((pulse.n - 1, pulse.n - 1)), vmin=0, vmax=1)\n",
    "ax6.set_xlabel(\"time (fs)\")\n",
    "ax6.set_ylabel(\"frequency (THz)\")\n",
    "# img = ax6.imshow(np.ones((pulse.n, pulse.n)), vmin=0, vmax=1)\n",
    "plt.colorbar(img_v_w)\n",
    "plt.colorbar(img_t_w)\n",
    "\n",
    "ax1.set_xlabel(\"wavelength (nm)\")\n",
    "ax2.set_xlabel(\"time (fs)\")\n",
    "ax2.set_title(\"Intensity autocorrelation\")\n",
    "ax3.set_xlabel(\"post-chirp (mm)\")\n",
    "ax3.set_ylabel(\"pre-chirp (mm)\")\n",
    "ax4.set_xlabel(\"post-chirp (mm)\")\n",
    "ax4.set_ylabel(\"pre-chirp (mm)\")\n",
    "ax3.set_title(\"bandwidth (THz)\")\n",
    "ax4.set_title(\"pulse duration (fs)\")\n",
    "fig.tight_layout()\n",
    "\n",
    "initialized = False"
   ]
  },
  {
   "cell_type": "code",
   "execution_count": 22,
   "id": "bb4e8f0d-56dd-4f83-9e34-8852a0cde6de",
   "metadata": {
    "tags": []
   },
   "outputs": [
    {
     "data": {
      "application/vnd.jupyter.widget-view+json": {
       "model_id": "236d3b6e2b644878a97871e7e0108d97",
       "version_major": 2,
       "version_minor": 0
      },
      "text/plain": [
       "interactive(children=(IntSlider(value=0, description='idx_pre', max=299), IntSlider(value=0, description='idx_…"
      ]
     },
     "metadata": {},
     "output_type": "display_data"
    }
   ],
   "source": [
    "@interact(\n",
    "    idx_pre=widgets.IntSlider(min=0,max=P_WL.shape[0] - 1,step=1),\n",
    "    idx_post=widgets.IntSlider(min=0,max=P_WL.shape[1] - 1,step=1),\n",
    ")\n",
    "def update(idx_pre, idx_post):\n",
    "    assert isinstance(idx_pre, int)\n",
    "    assert isinstance(idx_post, int)\n",
    "    \n",
    "    global img1\n",
    "    global img2\n",
    "    global initialized\n",
    "    global l1\n",
    "    global l2\n",
    "    global l3\n",
    "    global p1\n",
    "    global p2\n",
    "    global img\n",
    "    global l1_\n",
    "    global l2_\n",
    "    \n",
    "    p_wl = P_WL[idx_pre, idx_post]\n",
    "    p_t = P_T[idx_pre, idx_post]\n",
    "    a_t = ifft(A_V[idx_pre, idx_post], fsc=pulse.dt)\n",
    "    signal = np.c_[a_t] * np.ones(pulse.n)\n",
    "    gate = np.c_[np.ones(pulse.n)] * a_t\n",
    "    for r in range(pulse.n):\n",
    "        gate[r] = np.roll(gate[r], -r)\n",
    "    gate = fftshift(gate, axes=1)\n",
    "    frog = abs(fft(signal * gate, axis=0, fsc=pulse.dt)) ** 2\n",
    "    icorr = np.sum(frog, axis=0) * pulse.dv\n",
    "    \n",
    "    pulse.a_t[:] = a_t\n",
    "    idx_v = ((pulse.p_v / pulse.p_v.max()) > 1e-2).nonzero()\n",
    "    idx_t = ((pulse.p_t / pulse.p_t.max()) > 1e-2).nonzero()\n",
    "    if not initialized:\n",
    "        l1, = ax1.semilogy(pulse.wl_grid * 1e9, p_wl)\n",
    "        # l1_, = ax1_.plot(pulse.wl_grid[idx_v] * 1e9, pulse.tg_v[idx_v] * 1e15, \"C1\")\n",
    "        l2, = ax2.plot(pulse.t_grid * 1e15, icorr / icorr.max())\n",
    "        # l2_, = ax5_.plot(pulse.t_grid[idx_t] * 1e15, pulse.vg_t[idx_t] * 1e-12, \"C1\")\n",
    "        l3, = ax5.plot(pulse.t_grid * 1e15, p_t / p_t.max())\n",
    "        p1, = ax3.plot(idx_post, idx_pre, \"ko\")\n",
    "        p2, = ax4.plot(idx_post, idx_pre, \"ko\")\n",
    "        # img.set_data(pulse.t_grid * 1e15, wl_grid, A=(frog/frog.max())[:-1, :-1])\n",
    "        img.set_data(A=(frog/frog.max())[:-1, :-1])\n",
    "        initialized=True\n",
    "        fig.tight_layout()\n",
    "    else:\n",
    "        l1.set_ydata(p_wl)\n",
    "        l2.set_ydata(icorr / icorr.max())\n",
    "        l3.set_ydata(p_t / p_t.max())\n",
    "        # l1_.set_xdata(pulse.wl_grid[idx_v] * 1e9)\n",
    "        # l2_.set_xdata(pulse.t_grid[idx_t] * 1e15)\n",
    "        # l1_.set_ydata(pulse.tg_v[idx_v] * 1e15)\n",
    "        # l2_.set_ydata(pulse.vg_t[idx_t] * 1e-12)\n",
    "        p1.set_xdata(np.array([idx_post]))\n",
    "        p1.set_ydata(np.array([idx_pre]))\n",
    "        p2.set_xdata(np.array([idx_post]))\n",
    "        p2.set_ydata(np.array([idx_pre]))\n",
    "        # img.set_data(pulse.t_grid * 1e15, wl_grid, A=(frog/frog.max())[:-1, :-1])\n",
    "        img.set_data(A=(frog/frog.max())[:-1, :-1])\n",
    "        "
   ]
  },
  {
   "cell_type": "code",
   "execution_count": 11,
   "id": "947401e4-b672-40ed-9fa8-f592f9d18ca1",
   "metadata": {
    "tags": []
   },
   "outputs": [
    {
     "data": {
      "text/plain": [
       "331.83543130848255"
      ]
     },
     "execution_count": 11,
     "metadata": {},
     "output_type": "execute_result"
    }
   ],
   "source": [
    "E_P.mean() * f_r * 1e3"
   ]
  },
  {
   "cell_type": "code",
   "execution_count": 12,
   "id": "015e6262-385b-44b9-b5b5-882c81ab4451",
   "metadata": {},
   "outputs": [
    {
     "data": {
      "text/plain": [
       "68.35914485538258"
      ]
     },
     "execution_count": 12,
     "metadata": {},
     "output_type": "execute_result"
    }
   ],
   "source": [
    "T_W.min() * 1e15"
   ]
  },
  {
   "cell_type": "code",
   "execution_count": 13,
   "id": "a165af5f-8987-4fb6-b8c8-8570b01a84c0",
   "metadata": {},
   "outputs": [
    {
     "data": {
      "text/plain": [
       "(53, 85)"
      ]
     },
     "execution_count": 13,
     "metadata": {},
     "output_type": "execute_result"
    }
   ],
   "source": [
    "np.unravel_index(T_W.argmin(), T_W.shape)"
   ]
  },
  {
   "cell_type": "code",
   "execution_count": 14,
   "id": "a487cdec-c3d9-4217-b028-227170fd24bb",
   "metadata": {
    "tags": []
   },
   "outputs": [
    {
     "name": "stdout",
     "output_type": "stream",
     "text": [
      "0.34708398485114883 max power\n",
      "0.3076920540373737 min power\n"
     ]
    }
   ],
   "source": [
    "print(E_P.max() * f_r, \"max power\")\n",
    "print(E_P.min() * f_r, \"min power\")"
   ]
  },
  {
   "cell_type": "code",
   "execution_count": 15,
   "id": "edd2c650-c50b-4f3a-985b-74ad21280f4f",
   "metadata": {
    "tags": []
   },
   "outputs": [],
   "source": [
    "# plt.figure()\n",
    "# plt.pcolormesh(V_W/T_W)"
   ]
  },
  {
   "cell_type": "code",
   "execution_count": 16,
   "id": "a050e90e-e11a-42fb-bc58-1cd921f0fec9",
   "metadata": {},
   "outputs": [
    {
     "name": "stderr",
     "output_type": "stream",
     "text": [
      "/Users/peterchang/miniconda3/envs/idp/lib/python3.8/site-packages/ipykernel/eventloops.py:128: UserWarning: Attempt to set non-positive ylim on a log-scaled axis will be ignored.\n",
      "  el.exec() if hasattr(el, 'exec') else el.exec_()\n"
     ]
    }
   ],
   "source": [
    "# fig, ax = plt.subplots(1, 1)\n",
    "# ax.semilogy(p_data.wl_grid*1e6, p_data.p_v * p_data.v_grid**2/c)\n",
    "# ax.set_xlabel(\"wavelength (nm)\")\n",
    "# ax.set_ylabel(\"a.u.\")"
   ]
  },
  {
   "cell_type": "code",
   "execution_count": null,
   "id": "bdaaa500-1ebd-46eb-b2b5-ced74eec1ab1",
   "metadata": {},
   "outputs": [],
   "source": []
  }
 ],
 "metadata": {
  "kernelspec": {
   "display_name": "Python 3 (ipykernel)",
   "language": "python",
   "name": "python3"
  },
  "language_info": {
   "codemirror_mode": {
    "name": "ipython",
    "version": 3
   },
   "file_extension": ".py",
   "mimetype": "text/x-python",
   "name": "python",
   "nbconvert_exporter": "python",
   "pygments_lexer": "ipython3",
   "version": "3.8.17"
  }
 },
 "nbformat": 4,
 "nbformat_minor": 5
}
